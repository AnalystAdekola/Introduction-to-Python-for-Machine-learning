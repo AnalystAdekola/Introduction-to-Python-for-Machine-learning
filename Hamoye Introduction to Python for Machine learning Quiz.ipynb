{
 "cells": [
  {
   "cell_type": "markdown",
   "id": "9600992e",
   "metadata": {},
   "source": [
    "# Hamoye Introduction to Python for Machine learning Quiz\n",
    "\n",
    ">By: Adeleke Adekola Emmanuel  \n",
    ">Track: Data Science  \n",
    ">ID: 188274ee0b41f000"
   ]
  },
  {
   "cell_type": "code",
   "execution_count": 2,
   "id": "a978a854",
   "metadata": {},
   "outputs": [],
   "source": [
    "#Libraries to analyze the quiz\n",
    "import pandas as pd\n",
    "import numpy as np\n",
    "import matplotlib.pyplot as plt\n",
    "import seaborn as sns\n",
    "%matplotlib inline"
   ]
  },
  {
   "cell_type": "code",
   "execution_count": 3,
   "id": "060137ac",
   "metadata": {},
   "outputs": [],
   "source": [
    "#import dataset downloaded from Hamoye github link\n",
    "food = pd.read_csv(\"FoodBalanceSheets_E_Africa_NOFLAG.csv\", encoding=\"latin-1\")"
   ]
  },
  {
   "cell_type": "code",
   "execution_count": 4,
   "id": "e7b203ff",
   "metadata": {},
   "outputs": [
    {
     "data": {
      "text/html": [
       "<div>\n",
       "<style scoped>\n",
       "    .dataframe tbody tr th:only-of-type {\n",
       "        vertical-align: middle;\n",
       "    }\n",
       "\n",
       "    .dataframe tbody tr th {\n",
       "        vertical-align: top;\n",
       "    }\n",
       "\n",
       "    .dataframe thead th {\n",
       "        text-align: right;\n",
       "    }\n",
       "</style>\n",
       "<table border=\"1\" class=\"dataframe\">\n",
       "  <thead>\n",
       "    <tr style=\"text-align: right;\">\n",
       "      <th></th>\n",
       "      <th>Area Code</th>\n",
       "      <th>Area</th>\n",
       "      <th>Item Code</th>\n",
       "      <th>Item</th>\n",
       "      <th>Element Code</th>\n",
       "      <th>Element</th>\n",
       "      <th>Unit</th>\n",
       "      <th>Y2014</th>\n",
       "      <th>Y2015</th>\n",
       "      <th>Y2016</th>\n",
       "      <th>Y2017</th>\n",
       "      <th>Y2018</th>\n",
       "    </tr>\n",
       "  </thead>\n",
       "  <tbody>\n",
       "    <tr>\n",
       "      <th>0</th>\n",
       "      <td>4</td>\n",
       "      <td>Algeria</td>\n",
       "      <td>2501</td>\n",
       "      <td>Population</td>\n",
       "      <td>511</td>\n",
       "      <td>Total Population - Both sexes</td>\n",
       "      <td>1000 persons</td>\n",
       "      <td>38924.00</td>\n",
       "      <td>39728.00</td>\n",
       "      <td>40551.00</td>\n",
       "      <td>41389.00</td>\n",
       "      <td>42228.00</td>\n",
       "    </tr>\n",
       "    <tr>\n",
       "      <th>1</th>\n",
       "      <td>4</td>\n",
       "      <td>Algeria</td>\n",
       "      <td>2501</td>\n",
       "      <td>Population</td>\n",
       "      <td>5301</td>\n",
       "      <td>Domestic supply quantity</td>\n",
       "      <td>1000 tonnes</td>\n",
       "      <td>0.00</td>\n",
       "      <td>0.00</td>\n",
       "      <td>0.00</td>\n",
       "      <td>0.00</td>\n",
       "      <td>0.00</td>\n",
       "    </tr>\n",
       "    <tr>\n",
       "      <th>2</th>\n",
       "      <td>4</td>\n",
       "      <td>Algeria</td>\n",
       "      <td>2901</td>\n",
       "      <td>Grand Total</td>\n",
       "      <td>664</td>\n",
       "      <td>Food supply (kcal/capita/day)</td>\n",
       "      <td>kcal/capita/day</td>\n",
       "      <td>3377.00</td>\n",
       "      <td>3379.00</td>\n",
       "      <td>3372.00</td>\n",
       "      <td>3341.00</td>\n",
       "      <td>3322.00</td>\n",
       "    </tr>\n",
       "    <tr>\n",
       "      <th>3</th>\n",
       "      <td>4</td>\n",
       "      <td>Algeria</td>\n",
       "      <td>2901</td>\n",
       "      <td>Grand Total</td>\n",
       "      <td>674</td>\n",
       "      <td>Protein supply quantity (g/capita/day)</td>\n",
       "      <td>g/capita/day</td>\n",
       "      <td>94.90</td>\n",
       "      <td>94.35</td>\n",
       "      <td>94.72</td>\n",
       "      <td>92.82</td>\n",
       "      <td>91.83</td>\n",
       "    </tr>\n",
       "    <tr>\n",
       "      <th>4</th>\n",
       "      <td>4</td>\n",
       "      <td>Algeria</td>\n",
       "      <td>2901</td>\n",
       "      <td>Grand Total</td>\n",
       "      <td>684</td>\n",
       "      <td>Fat supply quantity (g/capita/day)</td>\n",
       "      <td>g/capita/day</td>\n",
       "      <td>80.06</td>\n",
       "      <td>79.36</td>\n",
       "      <td>77.40</td>\n",
       "      <td>80.19</td>\n",
       "      <td>77.28</td>\n",
       "    </tr>\n",
       "  </tbody>\n",
       "</table>\n",
       "</div>"
      ],
      "text/plain": [
       "   Area Code     Area  Item Code         Item  Element Code  \\\n",
       "0          4  Algeria       2501   Population           511   \n",
       "1          4  Algeria       2501   Population          5301   \n",
       "2          4  Algeria       2901  Grand Total           664   \n",
       "3          4  Algeria       2901  Grand Total           674   \n",
       "4          4  Algeria       2901  Grand Total           684   \n",
       "\n",
       "                                  Element             Unit     Y2014  \\\n",
       "0           Total Population - Both sexes     1000 persons  38924.00   \n",
       "1                Domestic supply quantity      1000 tonnes      0.00   \n",
       "2           Food supply (kcal/capita/day)  kcal/capita/day   3377.00   \n",
       "3  Protein supply quantity (g/capita/day)     g/capita/day     94.90   \n",
       "4      Fat supply quantity (g/capita/day)     g/capita/day     80.06   \n",
       "\n",
       "      Y2015     Y2016     Y2017     Y2018  \n",
       "0  39728.00  40551.00  41389.00  42228.00  \n",
       "1      0.00      0.00      0.00      0.00  \n",
       "2   3379.00   3372.00   3341.00   3322.00  \n",
       "3     94.35     94.72     92.82     91.83  \n",
       "4     79.36     77.40     80.19     77.28  "
      ]
     },
     "execution_count": 4,
     "metadata": {},
     "output_type": "execute_result"
    }
   ],
   "source": [
    "#dataset head\n",
    "food.head()"
   ]
  },
  {
   "cell_type": "code",
   "execution_count": 7,
   "id": "2de95f9c",
   "metadata": {},
   "outputs": [
    {
     "name": "stdout",
     "output_type": "stream",
     "text": [
      "<class 'pandas.core.frame.DataFrame'>\n",
      "RangeIndex: 60943 entries, 0 to 60942\n",
      "Data columns (total 12 columns):\n",
      " #   Column        Non-Null Count  Dtype  \n",
      "---  ------        --------------  -----  \n",
      " 0   Area Code     60943 non-null  int64  \n",
      " 1   Area          60943 non-null  object \n",
      " 2   Item Code     60943 non-null  int64  \n",
      " 3   Item          60943 non-null  object \n",
      " 4   Element Code  60943 non-null  int64  \n",
      " 5   Element       60943 non-null  object \n",
      " 6   Unit          60943 non-null  object \n",
      " 7   Y2014         59354 non-null  float64\n",
      " 8   Y2015         59395 non-null  float64\n",
      " 9   Y2016         59408 non-null  float64\n",
      " 10  Y2017         59437 non-null  float64\n",
      " 11  Y2018         59507 non-null  float64\n",
      "dtypes: float64(5), int64(3), object(4)\n",
      "memory usage: 5.6+ MB\n"
     ]
    }
   ],
   "source": [
    "#dataset information\n",
    "food.info()"
   ]
  },
  {
   "cell_type": "code",
   "execution_count": 83,
   "id": "40427dc6",
   "metadata": {},
   "outputs": [
    {
     "data": {
      "text/html": [
       "<div>\n",
       "<style scoped>\n",
       "    .dataframe tbody tr th:only-of-type {\n",
       "        vertical-align: middle;\n",
       "    }\n",
       "\n",
       "    .dataframe tbody tr th {\n",
       "        vertical-align: top;\n",
       "    }\n",
       "\n",
       "    .dataframe thead th {\n",
       "        text-align: right;\n",
       "    }\n",
       "</style>\n",
       "<table border=\"1\" class=\"dataframe\">\n",
       "  <thead>\n",
       "    <tr style=\"text-align: right;\">\n",
       "      <th></th>\n",
       "      <th>Area Code</th>\n",
       "      <th>Item Code</th>\n",
       "      <th>Element Code</th>\n",
       "      <th>Y2014</th>\n",
       "      <th>Y2015</th>\n",
       "      <th>Y2016</th>\n",
       "      <th>Y2017</th>\n",
       "      <th>Y2018</th>\n",
       "    </tr>\n",
       "  </thead>\n",
       "  <tbody>\n",
       "    <tr>\n",
       "      <th>count</th>\n",
       "      <td>60943.000000</td>\n",
       "      <td>60943.000000</td>\n",
       "      <td>60943.000000</td>\n",
       "      <td>59354.000000</td>\n",
       "      <td>59395.000000</td>\n",
       "      <td>59408.000000</td>\n",
       "      <td>59437.000000</td>\n",
       "      <td>59507.000000</td>\n",
       "    </tr>\n",
       "    <tr>\n",
       "      <th>mean</th>\n",
       "      <td>134.265576</td>\n",
       "      <td>2687.176706</td>\n",
       "      <td>3814.856456</td>\n",
       "      <td>134.196282</td>\n",
       "      <td>135.235966</td>\n",
       "      <td>136.555222</td>\n",
       "      <td>140.917765</td>\n",
       "      <td>143.758381</td>\n",
       "    </tr>\n",
       "    <tr>\n",
       "      <th>std</th>\n",
       "      <td>72.605709</td>\n",
       "      <td>146.055739</td>\n",
       "      <td>2212.007033</td>\n",
       "      <td>1567.663696</td>\n",
       "      <td>1603.403984</td>\n",
       "      <td>1640.007194</td>\n",
       "      <td>1671.862359</td>\n",
       "      <td>1710.782658</td>\n",
       "    </tr>\n",
       "    <tr>\n",
       "      <th>min</th>\n",
       "      <td>4.000000</td>\n",
       "      <td>2501.000000</td>\n",
       "      <td>511.000000</td>\n",
       "      <td>-1796.000000</td>\n",
       "      <td>-3161.000000</td>\n",
       "      <td>-3225.000000</td>\n",
       "      <td>-1582.000000</td>\n",
       "      <td>-3396.000000</td>\n",
       "    </tr>\n",
       "    <tr>\n",
       "      <th>25%</th>\n",
       "      <td>74.000000</td>\n",
       "      <td>2562.000000</td>\n",
       "      <td>684.000000</td>\n",
       "      <td>0.000000</td>\n",
       "      <td>0.000000</td>\n",
       "      <td>0.000000</td>\n",
       "      <td>0.000000</td>\n",
       "      <td>0.000000</td>\n",
       "    </tr>\n",
       "    <tr>\n",
       "      <th>50%</th>\n",
       "      <td>136.000000</td>\n",
       "      <td>2630.000000</td>\n",
       "      <td>5142.000000</td>\n",
       "      <td>0.090000</td>\n",
       "      <td>0.080000</td>\n",
       "      <td>0.080000</td>\n",
       "      <td>0.100000</td>\n",
       "      <td>0.070000</td>\n",
       "    </tr>\n",
       "    <tr>\n",
       "      <th>75%</th>\n",
       "      <td>195.000000</td>\n",
       "      <td>2775.000000</td>\n",
       "      <td>5511.000000</td>\n",
       "      <td>8.340000</td>\n",
       "      <td>8.460000</td>\n",
       "      <td>8.430000</td>\n",
       "      <td>9.000000</td>\n",
       "      <td>9.000000</td>\n",
       "    </tr>\n",
       "    <tr>\n",
       "      <th>max</th>\n",
       "      <td>276.000000</td>\n",
       "      <td>2961.000000</td>\n",
       "      <td>5911.000000</td>\n",
       "      <td>176405.000000</td>\n",
       "      <td>181137.000000</td>\n",
       "      <td>185960.000000</td>\n",
       "      <td>190873.000000</td>\n",
       "      <td>195875.000000</td>\n",
       "    </tr>\n",
       "  </tbody>\n",
       "</table>\n",
       "</div>"
      ],
      "text/plain": [
       "          Area Code     Item Code  Element Code          Y2014          Y2015  \\\n",
       "count  60943.000000  60943.000000  60943.000000   59354.000000   59395.000000   \n",
       "mean     134.265576   2687.176706   3814.856456     134.196282     135.235966   \n",
       "std       72.605709    146.055739   2212.007033    1567.663696    1603.403984   \n",
       "min        4.000000   2501.000000    511.000000   -1796.000000   -3161.000000   \n",
       "25%       74.000000   2562.000000    684.000000       0.000000       0.000000   \n",
       "50%      136.000000   2630.000000   5142.000000       0.090000       0.080000   \n",
       "75%      195.000000   2775.000000   5511.000000       8.340000       8.460000   \n",
       "max      276.000000   2961.000000   5911.000000  176405.000000  181137.000000   \n",
       "\n",
       "               Y2016          Y2017          Y2018  \n",
       "count   59408.000000   59437.000000   59507.000000  \n",
       "mean      136.555222     140.917765     143.758381  \n",
       "std      1640.007194    1671.862359    1710.782658  \n",
       "min     -3225.000000   -1582.000000   -3396.000000  \n",
       "25%         0.000000       0.000000       0.000000  \n",
       "50%         0.080000       0.100000       0.070000  \n",
       "75%         8.430000       9.000000       9.000000  \n",
       "max    185960.000000  190873.000000  195875.000000  "
      ]
     },
     "execution_count": 83,
     "metadata": {},
     "output_type": "execute_result"
    }
   ],
   "source": [
    "#check dataset statistics\n",
    "food.describe()"
   ]
  },
  {
   "cell_type": "markdown",
   "id": "ec301280",
   "metadata": {},
   "source": [
    "# Questions and Answers"
   ]
  },
  {
   "cell_type": "code",
   "execution_count": 97,
   "id": "68bd00d1",
   "metadata": {},
   "outputs": [
    {
     "name": "stdout",
     "output_type": "stream",
     "text": [
      "Area with the highest sum in 2017: Nigeria\n"
     ]
    }
   ],
   "source": [
    "# Question 1. Select columns ‘Y2017’ and ‘Area’, Perform a groupby operation on ‘Area’.  \n",
    "# Which of these Areas had the highest sum in 2017?\n",
    "\n",
    "area_group = food[['Y2017','Area']].groupby('Area')\n",
    "area_with_the_highest_sum = area_group['Y2017'].sum().idxmax()\n",
    "print(f\"Area with the highest sum in 2017: {area_with_the_highest_sum}\")"
   ]
  },
  {
   "cell_type": "code",
   "execution_count": 99,
   "id": "40fd2c4d",
   "metadata": {},
   "outputs": [
    {
     "ename": "TypeError",
     "evalue": "'tuple' object does not support item assignment",
     "output_type": "error",
     "traceback": [
      "\u001b[1;31m---------------------------------------------------------------------------\u001b[0m",
      "\u001b[1;31mTypeError\u001b[0m                                 Traceback (most recent call last)",
      "\u001b[1;32m<ipython-input-99-8c21cbb91e10>\u001b[0m in \u001b[0;36m<module>\u001b[1;34m\u001b[0m\n\u001b[0;32m      4\u001b[0m \u001b[0mmy_tuppy\u001b[0m \u001b[1;33m=\u001b[0m \u001b[1;33m(\u001b[0m\u001b[1;36m1\u001b[0m\u001b[1;33m,\u001b[0m\u001b[1;36m2\u001b[0m\u001b[1;33m,\u001b[0m\u001b[1;36m5\u001b[0m\u001b[1;33m,\u001b[0m\u001b[1;36m8\u001b[0m\u001b[1;33m)\u001b[0m\u001b[1;33m\u001b[0m\u001b[1;33m\u001b[0m\u001b[0m\n\u001b[0;32m      5\u001b[0m \u001b[1;33m\u001b[0m\u001b[0m\n\u001b[1;32m----> 6\u001b[1;33m \u001b[0mmy_tuppy\u001b[0m\u001b[1;33m[\u001b[0m\u001b[1;36m2\u001b[0m\u001b[1;33m]\u001b[0m \u001b[1;33m=\u001b[0m \u001b[1;36m6\u001b[0m\u001b[1;33m\u001b[0m\u001b[1;33m\u001b[0m\u001b[0m\n\u001b[0m",
      "\u001b[1;31mTypeError\u001b[0m: 'tuple' object does not support item assignment"
     ]
    }
   ],
   "source": [
    "# Question 2. \n",
    "#Given the following python code, what would the output of the code give?\n",
    "\n",
    "my_tuppy = (1,2,5,8)\n",
    "\n",
    "my_tuppy[2] = 6"
   ]
  },
  {
   "cell_type": "code",
   "execution_count": 100,
   "id": "20319066",
   "metadata": {},
   "outputs": [
    {
     "name": "stdout",
     "output_type": "stream",
     "text": [
      "Output of the code gives: 'TypeError'\n"
     ]
    }
   ],
   "source": [
    "print(f\"Output of the code gives: 'TypeError'\")"
   ]
  },
  {
   "cell_type": "code",
   "execution_count": 102,
   "id": "1b27cc41",
   "metadata": {},
   "outputs": [],
   "source": [
    "# Question 3. \n",
    "# Which of the following is a python inbuilt module?\n",
    "\n",
    "# Answer = 'Math'"
   ]
  },
  {
   "cell_type": "code",
   "execution_count": 103,
   "id": "b67e1a94",
   "metadata": {},
   "outputs": [],
   "source": [
    "# Question 4.\n",
    "# A pandas Dataframe with dimensions (100,3) has how many features and observations?\n",
    "\n",
    "# Answer\n",
    "# Features (columns): 3\n",
    "# Observations (rows): 100"
   ]
  },
  {
   "cell_type": "code",
   "execution_count": null,
   "id": "a235e35e",
   "metadata": {},
   "outputs": [],
   "source": [
    "3 features, 100 observations"
   ]
  },
  {
   "cell_type": "code",
   "execution_count": 106,
   "id": "2aaa2d70",
   "metadata": {},
   "outputs": [
    {
     "data": {
      "text/html": [
       "<div>\n",
       "<style scoped>\n",
       "    .dataframe tbody tr th:only-of-type {\n",
       "        vertical-align: middle;\n",
       "    }\n",
       "\n",
       "    .dataframe tbody tr th {\n",
       "        vertical-align: top;\n",
       "    }\n",
       "\n",
       "    .dataframe thead th {\n",
       "        text-align: right;\n",
       "    }\n",
       "</style>\n",
       "<table border=\"1\" class=\"dataframe\">\n",
       "  <thead>\n",
       "    <tr style=\"text-align: right;\">\n",
       "      <th></th>\n",
       "      <th>Age</th>\n",
       "      <th>Nationality</th>\n",
       "      <th>Overall</th>\n",
       "    </tr>\n",
       "  </thead>\n",
       "  <tbody>\n",
       "    <tr>\n",
       "      <th>1</th>\n",
       "      <td>35</td>\n",
       "      <td>Portugal</td>\n",
       "      <td>94</td>\n",
       "    </tr>\n",
       "    <tr>\n",
       "      <th>2</th>\n",
       "      <td>33</td>\n",
       "      <td>Argentina</td>\n",
       "      <td>93</td>\n",
       "    </tr>\n",
       "    <tr>\n",
       "      <th>3</th>\n",
       "      <td>30</td>\n",
       "      <td>Brazil</td>\n",
       "      <td>92</td>\n",
       "    </tr>\n",
       "  </tbody>\n",
       "</table>\n",
       "</div>"
      ],
      "text/plain": [
       "   Age Nationality  Overall\n",
       "1   35    Portugal       94\n",
       "2   33   Argentina       93\n",
       "3   30      Brazil       92"
      ]
     },
     "execution_count": 106,
     "metadata": {},
     "output_type": "execute_result"
    }
   ],
   "source": [
    "# Question 5.\n",
    "\n",
    "#If you have the following list\n",
    "\n",
    "lst = [[35, 'Portugal', 94], [33, 'Argentina', 93], [30 , 'Brazil', 92]]\n",
    "\n",
    "col = ['Age','Nationality','Overall']\n",
    "\n",
    "# How do you create a pandas DataFrame using this list, to look like the table below?\n",
    "#Answer\n",
    "newdata = pd.DataFrame(lst, columns = col, index = [i for i in range(1,4)])\n",
    "newdata"
   ]
  },
  {
   "cell_type": "code",
   "execution_count": null,
   "id": "28e77af1",
   "metadata": {},
   "outputs": [],
   "source": [
    "#Question 6.\n",
    "\n",
    "# Answer the following questions based on the African food production dataset provided by the FAO website already provided\n",
    "\n",
    "# What is the total sum of Wine produced in 2015 and 2018 respectively?\n",
    "\n",
    "#Hint:\n",
    "\n",
    "#Perform a groupby sum aggregation on ‘Item’\n",
    "\n"
   ]
  },
  {
   "cell_type": "code",
   "execution_count": 146,
   "id": "3089fe2b",
   "metadata": {},
   "outputs": [
    {
     "data": {
      "text/plain": [
       "Area Code                                                   66206\n",
       "Area            AlgeriaAlgeriaAlgeriaAlgeriaAlgeriaAlgeriaAlge...\n",
       "Item Code                                                 1319535\n",
       "Item            WineWineWineWineWineWineWineWineWineWineWineWi...\n",
       "Element Code                                              1818328\n",
       "Element         ProductionImport QuantityStock VariationExport...\n",
       "Unit            1000 tonnes1000 tonnes1000 tonnes1000 tonnes10...\n",
       "Y2014                                                     4497.36\n",
       "Y2015                                                     4251.81\n",
       "Y2016                                                     3872.09\n",
       "Y2017                                                     4178.02\n",
       "Y2018                                                     4039.32\n",
       "dtype: object"
      ]
     },
     "execution_count": 146,
     "metadata": {},
     "output_type": "execute_result"
    }
   ],
   "source": [
    "wine_sum = food[food['Item']== 'Wine']\n",
    "wine_sum.sum()"
   ]
  },
  {
   "cell_type": "code",
   "execution_count": 147,
   "id": "c48ef5a1",
   "metadata": {},
   "outputs": [],
   "source": [
    "# Y2015 = 4251.81\n",
    "# Y2018 = 4039.32"
   ]
  },
  {
   "cell_type": "code",
   "execution_count": 153,
   "id": "fedc64b7",
   "metadata": {},
   "outputs": [
    {
     "data": {
      "text/plain": [
       "49"
      ]
     },
     "execution_count": 153,
     "metadata": {},
     "output_type": "execute_result"
    }
   ],
   "source": [
    "# Question 7.\n",
    "# What is the total number of unique countries in the dataset?\n",
    "\n",
    "len(food['Area'].unique())"
   ]
  },
  {
   "cell_type": "code",
   "execution_count": 177,
   "id": "248bc816",
   "metadata": {},
   "outputs": [
    {
     "name": "stdout",
     "output_type": "stream",
     "text": [
      "1589\n",
      "2.607 %\n"
     ]
    }
   ],
   "source": [
    "# Question 8. \n",
    "# What is the total number and percentage of missing data in 2014 to 3 decimal places?\n",
    "\n",
    "missing2014 = food['Y2014'].isna().sum()\n",
    "percentage_missing2014 = ((missing2014/60943)*100).round(3)\n",
    "print(missing2014)\n",
    "print(percentage_missing2014,'%')\n",
    "\n",
    "#1589 and 2.607%"
   ]
  },
  {
   "cell_type": "code",
   "execution_count": 182,
   "id": "ac4c6739",
   "metadata": {},
   "outputs": [
    {
     "name": "stdout",
     "output_type": "stream",
     "text": [
      "140.917764860268\n",
      "1671.8623590572788\n"
     ]
    }
   ],
   "source": [
    "# Question 9.\n",
    "# What is the mean and standard deviation across the whole dataset for the year 2017 to 2 decimal places?\n",
    "\n",
    "mean_food2017 = food['Y2017'].mean()\n",
    "std_food2017 = food['Y2017'].std()\n",
    "print(mean_food2017)\n",
    "print(std_food2017)\n",
    "#135.23 and 1603.40"
   ]
  },
  {
   "cell_type": "code",
   "execution_count": 175,
   "id": "91b0958d",
   "metadata": {},
   "outputs": [
    {
     "data": {
      "text/plain": [
       "'e'"
      ]
     },
     "execution_count": 175,
     "metadata": {},
     "output_type": "execute_result"
    }
   ],
   "source": [
    "# Question 10.\n",
    "# What would be the output for?\n",
    "\n",
    "S = [['him', 'sell'], [90, 28, 43]]\n",
    "S[0][1][1]"
   ]
  },
  {
   "cell_type": "code",
   "execution_count": null,
   "id": "077ad85f",
   "metadata": {},
   "outputs": [],
   "source": [
    "# Question 11.\n",
    "# Which year had the least correlation with ‘Element Code’?\n",
    "2014"
   ]
  },
  {
   "cell_type": "code",
   "execution_count": 184,
   "id": "717973ab",
   "metadata": {},
   "outputs": [
    {
     "data": {
      "text/plain": [
       "8"
      ]
     },
     "execution_count": 184,
     "metadata": {},
     "output_type": "execute_result"
    }
   ],
   "source": [
    "# Question 12.\n",
    "# Consider the following list of tuples:\n",
    "\n",
    "y = [(2, 4), (7, 8), (1, 5, 9)]\n",
    "\n",
    "# How would you assign element 8 from the list to a variable x?\n",
    "\n",
    "x = y[1][1]\n",
    "x"
   ]
  },
  {
   "cell_type": "code",
   "execution_count": 207,
   "id": "3260b265",
   "metadata": {},
   "outputs": [
    {
     "data": {
      "text/html": [
       "<div>\n",
       "<style scoped>\n",
       "    .dataframe tbody tr th:only-of-type {\n",
       "        vertical-align: middle;\n",
       "    }\n",
       "\n",
       "    .dataframe tbody tr th {\n",
       "        vertical-align: top;\n",
       "    }\n",
       "\n",
       "    .dataframe thead th {\n",
       "        text-align: right;\n",
       "    }\n",
       "</style>\n",
       "<table border=\"1\" class=\"dataframe\">\n",
       "  <thead>\n",
       "    <tr style=\"text-align: right;\">\n",
       "      <th></th>\n",
       "      <th>Area Code</th>\n",
       "      <th>Item Code</th>\n",
       "      <th>Element Code</th>\n",
       "      <th>Y2014</th>\n",
       "      <th>Y2015</th>\n",
       "      <th>Y2016</th>\n",
       "      <th>Y2017</th>\n",
       "      <th>Y2018</th>\n",
       "    </tr>\n",
       "    <tr>\n",
       "      <th>Element</th>\n",
       "      <th></th>\n",
       "      <th></th>\n",
       "      <th></th>\n",
       "      <th></th>\n",
       "      <th></th>\n",
       "      <th></th>\n",
       "      <th></th>\n",
       "      <th></th>\n",
       "    </tr>\n",
       "  </thead>\n",
       "  <tbody>\n",
       "    <tr>\n",
       "      <th>Processing</th>\n",
       "      <td>271940</td>\n",
       "      <td>5350416</td>\n",
       "      <td>10313310</td>\n",
       "      <td>282923.0</td>\n",
       "      <td>287929.0</td>\n",
       "      <td>280631.0</td>\n",
       "      <td>292836.0</td>\n",
       "      <td>308429.0</td>\n",
       "    </tr>\n",
       "  </tbody>\n",
       "</table>\n",
       "</div>"
      ],
      "text/plain": [
       "            Area Code  Item Code  Element Code     Y2014     Y2015     Y2016  \\\n",
       "Element                                                                        \n",
       "Processing     271940    5350416      10313310  282923.0  287929.0  280631.0   \n",
       "\n",
       "               Y2017     Y2018  \n",
       "Element                         \n",
       "Processing  292836.0  308429.0  "
      ]
     },
     "execution_count": 207,
     "metadata": {},
     "output_type": "execute_result"
    }
   ],
   "source": [
    "# Question 13.\n",
    "# Perform a groupby operation on ‘Element’.  \n",
    "# What is the total number of the sum of Processing in 2017?\n",
    "\n",
    "total_element = (food[food['Element']== 'Processing']).groupby('Element').sum()\n",
    "total_element\n",
    "# 292836.00"
   ]
  },
  {
   "cell_type": "code",
   "execution_count": 247,
   "id": "7b5d348d",
   "metadata": {
    "scrolled": true
   },
   "outputs": [
    {
     "name": "stdout",
     "output_type": "stream",
     "text": [
      "                Y2017\n",
      "Area                 \n",
      "Mauritania       1108\n",
      "Guinea-Bissau    1076\n",
      "Djibouti         1061\n",
      "Seychelles         68\n",
      "Sudan (former)     53\n",
      "Comoros            45\n",
      "Ethiopia PDR       39\n",
      "7th lowest is {'Mauritania'}\n"
     ]
    }
   ],
   "source": [
    "# Question 14.\n",
    "# Select columns ‘Y2017’ and ‘Area’, Perform a groupby operation on ‘Area’. \n",
    "# Which of these Areas had the 7th lowest sum in 2017?\n",
    "\n",
    "grouped_by_area = food[['Area','Y2017']].groupby('Area').count().sort_values(ascending=False, by='Y2017').tail(7)\n",
    "print(grouped_by_area)\n",
    "seventh_lowest_area = grouped_by_area['Y2017'].nsmallest(7).index[-1]  # Get the last index\n",
    "print('7th lowest is', {seventh_lowest_area})\n"
   ]
  },
  {
   "cell_type": "code",
   "execution_count": 251,
   "id": "e9883ebe",
   "metadata": {},
   "outputs": [
    {
     "data": {
      "text/plain": [
       "array([[89, 63],\n",
       "       [92, 48]])"
      ]
     },
     "execution_count": 251,
     "metadata": {},
     "output_type": "execute_result"
    }
   ],
   "source": [
    "# Question 15.\n",
    "# Given the following numpy array \n",
    "\n",
    "array  = np.array([[94, 89, 63], [93, 92, 48], [92, 94, 56]])\n",
    "\n",
    "# How would you select  the elements in bold and italics from the array?\n",
    "\n",
    "array[ : 2, 1 : ] "
   ]
  },
  {
   "cell_type": "code",
   "execution_count": 252,
   "id": "ae1dff55",
   "metadata": {},
   "outputs": [
    {
     "data": {
      "text/plain": [
       "(60943, 12)"
      ]
     },
     "execution_count": 252,
     "metadata": {},
     "output_type": "execute_result"
    }
   ],
   "source": [
    "# Question 16.\n",
    "# How would you check for the number of rows and columns in a pandas DataFrame named df?\n",
    "\n",
    "\n",
    "# Answer = df.shape4\n",
    "#example:\n",
    "food.shape"
   ]
  },
  {
   "cell_type": "code",
   "execution_count": null,
   "id": "7b850c2b",
   "metadata": {},
   "outputs": [],
   "source": [
    "#Question 17.\n",
    "# Which of these python data structures is unorderly?\n",
    "\n",
    "Dictionary\n",
    "\n",
    "Set"
   ]
  },
  {
   "cell_type": "code",
   "execution_count": 255,
   "id": "3e144aca",
   "metadata": {},
   "outputs": [
    {
     "data": {
      "text/html": [
       "<div>\n",
       "<style scoped>\n",
       "    .dataframe tbody tr th:only-of-type {\n",
       "        vertical-align: middle;\n",
       "    }\n",
       "\n",
       "    .dataframe tbody tr th {\n",
       "        vertical-align: top;\n",
       "    }\n",
       "\n",
       "    .dataframe thead th {\n",
       "        text-align: right;\n",
       "    }\n",
       "</style>\n",
       "<table border=\"1\" class=\"dataframe\">\n",
       "  <thead>\n",
       "    <tr style=\"text-align: right;\">\n",
       "      <th></th>\n",
       "      <th>Area Code</th>\n",
       "      <th>Item Code</th>\n",
       "      <th>Element Code</th>\n",
       "      <th>Y2014</th>\n",
       "      <th>Y2015</th>\n",
       "      <th>Y2016</th>\n",
       "      <th>Y2017</th>\n",
       "      <th>Y2018</th>\n",
       "    </tr>\n",
       "    <tr>\n",
       "      <th>Element</th>\n",
       "      <th></th>\n",
       "      <th></th>\n",
       "      <th></th>\n",
       "      <th></th>\n",
       "      <th></th>\n",
       "      <th></th>\n",
       "      <th></th>\n",
       "      <th></th>\n",
       "    </tr>\n",
       "  </thead>\n",
       "  <tbody>\n",
       "    <tr>\n",
       "      <th>Stock Variation</th>\n",
       "      <td>571566</td>\n",
       "      <td>11329527</td>\n",
       "      <td>21464704</td>\n",
       "      <td>58749.83</td>\n",
       "      <td>34910.99</td>\n",
       "      <td>33140.12</td>\n",
       "      <td>54316.91</td>\n",
       "      <td>20577.91</td>\n",
       "    </tr>\n",
       "  </tbody>\n",
       "</table>\n",
       "</div>"
      ],
      "text/plain": [
       "                 Area Code  Item Code  Element Code     Y2014     Y2015  \\\n",
       "Element                                                                   \n",
       "Stock Variation     571566   11329527      21464704  58749.83  34910.99   \n",
       "\n",
       "                    Y2016     Y2017     Y2018  \n",
       "Element                                        \n",
       "Stock Variation  33140.12  54316.91  20577.91  "
      ]
     },
     "execution_count": 255,
     "metadata": {},
     "output_type": "execute_result"
    }
   ],
   "source": [
    "# Question 18.\n",
    "# Perform a groupby operation on ‘Element’.  What year has the highest sum of Stock Variation?\n",
    "total_stock_element = (food[food['Element']== 'Stock Variation']).groupby('Element').sum()\n",
    "total_stock_element\n",
    "#2014"
   ]
  },
  {
   "cell_type": "code",
   "execution_count": 274,
   "id": "fd605626",
   "metadata": {},
   "outputs": [
    {
     "data": {
      "text/html": [
       "<div>\n",
       "<style scoped>\n",
       "    .dataframe tbody tr th:only-of-type {\n",
       "        vertical-align: middle;\n",
       "    }\n",
       "\n",
       "    .dataframe tbody tr th {\n",
       "        vertical-align: top;\n",
       "    }\n",
       "\n",
       "    .dataframe thead th {\n",
       "        text-align: right;\n",
       "    }\n",
       "</style>\n",
       "<table border=\"1\" class=\"dataframe\">\n",
       "  <thead>\n",
       "    <tr style=\"text-align: right;\">\n",
       "      <th></th>\n",
       "      <th>Area Code</th>\n",
       "      <th>Item Code</th>\n",
       "      <th>Element Code</th>\n",
       "      <th>Y2014</th>\n",
       "      <th>Y2015</th>\n",
       "      <th>Y2016</th>\n",
       "      <th>Y2017</th>\n",
       "      <th>Y2018</th>\n",
       "    </tr>\n",
       "    <tr>\n",
       "      <th>Element</th>\n",
       "      <th></th>\n",
       "      <th></th>\n",
       "      <th></th>\n",
       "      <th></th>\n",
       "      <th></th>\n",
       "      <th></th>\n",
       "      <th></th>\n",
       "      <th></th>\n",
       "    </tr>\n",
       "  </thead>\n",
       "  <tbody>\n",
       "    <tr>\n",
       "      <th>Domestic supply quantity</th>\n",
       "      <td>15351</td>\n",
       "      <td>318888</td>\n",
       "      <td>630819</td>\n",
       "      <td>31578.76</td>\n",
       "      <td>31214.98</td>\n",
       "      <td>31732.08</td>\n",
       "      <td>31927.87</td>\n",
       "      <td>32596.87</td>\n",
       "    </tr>\n",
       "    <tr>\n",
       "      <th>Export Quantity</th>\n",
       "      <td>13416</td>\n",
       "      <td>279445</td>\n",
       "      <td>614744</td>\n",
       "      <td>425.48</td>\n",
       "      <td>494.75</td>\n",
       "      <td>535.06</td>\n",
       "      <td>566.81</td>\n",
       "      <td>535.81</td>\n",
       "    </tr>\n",
       "    <tr>\n",
       "      <th>Fat supply quantity (g/capita/day)</th>\n",
       "      <td>14319</td>\n",
       "      <td>299405</td>\n",
       "      <td>75924</td>\n",
       "      <td>88.72</td>\n",
       "      <td>91.85</td>\n",
       "      <td>95.33</td>\n",
       "      <td>101.03</td>\n",
       "      <td>96.43</td>\n",
       "    </tr>\n",
       "    <tr>\n",
       "      <th>Feed</th>\n",
       "      <td>4515</td>\n",
       "      <td>94030</td>\n",
       "      <td>193235</td>\n",
       "      <td>2178.76</td>\n",
       "      <td>2070.22</td>\n",
       "      <td>2121.40</td>\n",
       "      <td>2059.60</td>\n",
       "      <td>2133.60</td>\n",
       "    </tr>\n",
       "    <tr>\n",
       "      <th>Food</th>\n",
       "      <td>14190</td>\n",
       "      <td>295817</td>\n",
       "      <td>565620</td>\n",
       "      <td>21405.42</td>\n",
       "      <td>21120.65</td>\n",
       "      <td>21435.61</td>\n",
       "      <td>21676.21</td>\n",
       "      <td>22116.21</td>\n",
       "    </tr>\n",
       "    <tr>\n",
       "      <th>Food supply (kcal/capita/day)</th>\n",
       "      <td>14319</td>\n",
       "      <td>299405</td>\n",
       "      <td>73704</td>\n",
       "      <td>7945.00</td>\n",
       "      <td>7685.00</td>\n",
       "      <td>7669.00</td>\n",
       "      <td>7768.00</td>\n",
       "      <td>7748.00</td>\n",
       "    </tr>\n",
       "    <tr>\n",
       "      <th>Food supply quantity (kg/capita/yr)</th>\n",
       "      <td>14190</td>\n",
       "      <td>295817</td>\n",
       "      <td>70950</td>\n",
       "      <td>907.59</td>\n",
       "      <td>871.59</td>\n",
       "      <td>861.17</td>\n",
       "      <td>847.75</td>\n",
       "      <td>842.17</td>\n",
       "    </tr>\n",
       "    <tr>\n",
       "      <th>Import Quantity</th>\n",
       "      <td>14319</td>\n",
       "      <td>297945</td>\n",
       "      <td>622821</td>\n",
       "      <td>2010.71</td>\n",
       "      <td>1721.80</td>\n",
       "      <td>1901.47</td>\n",
       "      <td>3139.79</td>\n",
       "      <td>3214.79</td>\n",
       "    </tr>\n",
       "    <tr>\n",
       "      <th>Losses</th>\n",
       "      <td>7095</td>\n",
       "      <td>148102</td>\n",
       "      <td>281765</td>\n",
       "      <td>2252.00</td>\n",
       "      <td>2176.00</td>\n",
       "      <td>2215.00</td>\n",
       "      <td>2153.00</td>\n",
       "      <td>2253.00</td>\n",
       "    </tr>\n",
       "    <tr>\n",
       "      <th>Other uses (non-food)</th>\n",
       "      <td>6579</td>\n",
       "      <td>138246</td>\n",
       "      <td>262854</td>\n",
       "      <td>4348.58</td>\n",
       "      <td>3957.12</td>\n",
       "      <td>4114.08</td>\n",
       "      <td>4170.06</td>\n",
       "      <td>4221.06</td>\n",
       "    </tr>\n",
       "    <tr>\n",
       "      <th>Processing</th>\n",
       "      <td>9804</td>\n",
       "      <td>201929</td>\n",
       "      <td>389956</td>\n",
       "      <td>1262.00</td>\n",
       "      <td>1803.00</td>\n",
       "      <td>1770.00</td>\n",
       "      <td>1826.00</td>\n",
       "      <td>1819.00</td>\n",
       "    </tr>\n",
       "    <tr>\n",
       "      <th>Production</th>\n",
       "      <td>14190</td>\n",
       "      <td>295071</td>\n",
       "      <td>606210</td>\n",
       "      <td>30337.51</td>\n",
       "      <td>29482.89</td>\n",
       "      <td>29889.65</td>\n",
       "      <td>29267.86</td>\n",
       "      <td>30215.86</td>\n",
       "    </tr>\n",
       "    <tr>\n",
       "      <th>Protein supply quantity (g/capita/day)</th>\n",
       "      <td>14319</td>\n",
       "      <td>299405</td>\n",
       "      <td>74814</td>\n",
       "      <td>177.79</td>\n",
       "      <td>173.05</td>\n",
       "      <td>173.40</td>\n",
       "      <td>175.75</td>\n",
       "      <td>176.64</td>\n",
       "    </tr>\n",
       "    <tr>\n",
       "      <th>Residuals</th>\n",
       "      <td>13545</td>\n",
       "      <td>280011</td>\n",
       "      <td>542850</td>\n",
       "      <td>-603.00</td>\n",
       "      <td>-616.00</td>\n",
       "      <td>-642.00</td>\n",
       "      <td>-657.00</td>\n",
       "      <td>-676.00</td>\n",
       "    </tr>\n",
       "    <tr>\n",
       "      <th>Seed</th>\n",
       "      <td>2709</td>\n",
       "      <td>56067</td>\n",
       "      <td>116067</td>\n",
       "      <td>728.00</td>\n",
       "      <td>699.00</td>\n",
       "      <td>720.00</td>\n",
       "      <td>695.00</td>\n",
       "      <td>728.00</td>\n",
       "    </tr>\n",
       "    <tr>\n",
       "      <th>Stock Variation</th>\n",
       "      <td>12642</td>\n",
       "      <td>262174</td>\n",
       "      <td>497056</td>\n",
       "      <td>352.00</td>\n",
       "      <td>-505.00</td>\n",
       "      <td>-475.00</td>\n",
       "      <td>-91.00</td>\n",
       "      <td>293.00</td>\n",
       "    </tr>\n",
       "    <tr>\n",
       "      <th>Total Population - Both sexes</th>\n",
       "      <td>129</td>\n",
       "      <td>2501</td>\n",
       "      <td>511</td>\n",
       "      <td>23590.00</td>\n",
       "      <td>24234.00</td>\n",
       "      <td>24894.00</td>\n",
       "      <td>25571.00</td>\n",
       "      <td>26262.00</td>\n",
       "    </tr>\n",
       "  </tbody>\n",
       "</table>\n",
       "</div>"
      ],
      "text/plain": [
       "                                        Area Code  Item Code  Element Code  \\\n",
       "Element                                                                      \n",
       "Domestic supply quantity                    15351     318888        630819   \n",
       "Export Quantity                             13416     279445        614744   \n",
       "Fat supply quantity (g/capita/day)          14319     299405         75924   \n",
       "Feed                                         4515      94030        193235   \n",
       "Food                                        14190     295817        565620   \n",
       "Food supply (kcal/capita/day)               14319     299405         73704   \n",
       "Food supply quantity (kg/capita/yr)         14190     295817         70950   \n",
       "Import Quantity                             14319     297945        622821   \n",
       "Losses                                       7095     148102        281765   \n",
       "Other uses (non-food)                        6579     138246        262854   \n",
       "Processing                                   9804     201929        389956   \n",
       "Production                                  14190     295071        606210   \n",
       "Protein supply quantity (g/capita/day)      14319     299405         74814   \n",
       "Residuals                                   13545     280011        542850   \n",
       "Seed                                         2709      56067        116067   \n",
       "Stock Variation                             12642     262174        497056   \n",
       "Total Population - Both sexes                 129       2501           511   \n",
       "\n",
       "                                           Y2014     Y2015     Y2016  \\\n",
       "Element                                                                \n",
       "Domestic supply quantity                31578.76  31214.98  31732.08   \n",
       "Export Quantity                           425.48    494.75    535.06   \n",
       "Fat supply quantity (g/capita/day)         88.72     91.85     95.33   \n",
       "Feed                                     2178.76   2070.22   2121.40   \n",
       "Food                                    21405.42  21120.65  21435.61   \n",
       "Food supply (kcal/capita/day)            7945.00   7685.00   7669.00   \n",
       "Food supply quantity (kg/capita/yr)       907.59    871.59    861.17   \n",
       "Import Quantity                          2010.71   1721.80   1901.47   \n",
       "Losses                                   2252.00   2176.00   2215.00   \n",
       "Other uses (non-food)                    4348.58   3957.12   4114.08   \n",
       "Processing                               1262.00   1803.00   1770.00   \n",
       "Production                              30337.51  29482.89  29889.65   \n",
       "Protein supply quantity (g/capita/day)    177.79    173.05    173.40   \n",
       "Residuals                                -603.00   -616.00   -642.00   \n",
       "Seed                                      728.00    699.00    720.00   \n",
       "Stock Variation                           352.00   -505.00   -475.00   \n",
       "Total Population - Both sexes           23590.00  24234.00  24894.00   \n",
       "\n",
       "                                           Y2017     Y2018  \n",
       "Element                                                     \n",
       "Domestic supply quantity                31927.87  32596.87  \n",
       "Export Quantity                           566.81    535.81  \n",
       "Fat supply quantity (g/capita/day)        101.03     96.43  \n",
       "Feed                                     2059.60   2133.60  \n",
       "Food                                    21676.21  22116.21  \n",
       "Food supply (kcal/capita/day)            7768.00   7748.00  \n",
       "Food supply quantity (kg/capita/yr)       847.75    842.17  \n",
       "Import Quantity                          3139.79   3214.79  \n",
       "Losses                                   2153.00   2253.00  \n",
       "Other uses (non-food)                    4170.06   4221.06  \n",
       "Processing                               1826.00   1819.00  \n",
       "Production                              29267.86  30215.86  \n",
       "Protein supply quantity (g/capita/day)    175.75    176.64  \n",
       "Residuals                                -657.00   -676.00  \n",
       "Seed                                      695.00    728.00  \n",
       "Stock Variation                           -91.00    293.00  \n",
       "Total Population - Both sexes           25571.00  26262.00  "
      ]
     },
     "execution_count": 274,
     "metadata": {},
     "output_type": "execute_result"
    }
   ],
   "source": [
    "# Question 19. \n",
    "# What is the total Protein supply quantity in Madagascar in 2015?\n",
    "\n",
    "protein_supply = (food[food['Area']== 'Madagascar']).groupby('Element').sum()\n",
    "protein_supply\n",
    "#Protein supply quantity (g/capita/day\n",
    "#357.12"
   ]
  },
  {
   "cell_type": "code",
   "execution_count": null,
   "id": "292c33c5",
   "metadata": {},
   "outputs": [],
   "source": [
    "# Question 20.\n",
    "# Which of the following dataframe methods can be used to access elements across rows and columns?\n",
    "\n",
    "# Answer: df.iloc[ : ] "
   ]
  }
 ],
 "metadata": {
  "kernelspec": {
   "display_name": "Python 3",
   "language": "python",
   "name": "python3"
  },
  "language_info": {
   "codemirror_mode": {
    "name": "ipython",
    "version": 3
   },
   "file_extension": ".py",
   "mimetype": "text/x-python",
   "name": "python",
   "nbconvert_exporter": "python",
   "pygments_lexer": "ipython3",
   "version": "3.8.8"
  }
 },
 "nbformat": 4,
 "nbformat_minor": 5
}
